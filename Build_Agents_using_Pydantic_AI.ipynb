{
  "nbformat": 4,
  "nbformat_minor": 0,
  "metadata": {
    "colab": {
      "provenance": []
    },
    "kernelspec": {
      "name": "python3",
      "display_name": "Python 3"
    },
    "language_info": {
      "name": "python"
    }
  },
  "cells": [
    {
      "cell_type": "code",
      "execution_count": 2,
      "metadata": {
        "id": "UNH3hOBeg-6o"
      },
      "outputs": [],
      "source": [
        "!pip install pydantic-ai==0.1.3 pydantic-ai-slim[tavily]==0.1.3 -q"
      ]
    },
    {
      "cell_type": "code",
      "source": [
        "import nest_asyncio\n",
        "\n",
        "nest_asyncio.apply()"
      ],
      "metadata": {
        "id": "fmpaLmVTj3W5"
      },
      "execution_count": 3,
      "outputs": []
    },
    {
      "cell_type": "code",
      "source": [
        "import os\n",
        "\n",
        "from pydantic_ai.agent import Agent\n",
        "from pydantic_ai.common_tools.tavily import tavily_search_tool"
      ],
      "metadata": {
        "id": "LCFbKWu7k0Yf"
      },
      "execution_count": 4,
      "outputs": []
    },
    {
      "cell_type": "code",
      "source": [
        "# setup Groq API Key\n",
        "os.environ[\"GROQ_API_KEY\"] = \"your_groq_api_key\""
      ],
      "metadata": {
        "id": "QofhBUfKlAl_"
      },
      "execution_count": 5,
      "outputs": []
    },
    {
      "cell_type": "code",
      "source": [
        "# Tavily API key\n",
        "TAVILY_API_KEY = \"your_tavily_api_key\""
      ],
      "metadata": {
        "id": "SLCBg_CNlDkl"
      },
      "execution_count": 6,
      "outputs": []
    },
    {
      "cell_type": "code",
      "source": [
        "agent = Agent(\n",
        "    'groq:llama-3.1-8b-instant',\n",
        "    tools=[tavily_search_tool(TAVILY_API_KEY)],\n",
        "    system_prompt='Search Tavily for the given query and return the results.',\n",
        ")"
      ],
      "metadata": {
        "id": "_gPBzOyxlH5z"
      },
      "execution_count": 7,
      "outputs": []
    },
    {
      "cell_type": "code",
      "source": [
        "result = agent.run_sync('Tell me the top news in the GenAI world recently.')\n",
        "print(result.output)"
      ],
      "metadata": {
        "colab": {
          "base_uri": "https://localhost:8080/"
        },
        "id": "acdxxvLqlXGt",
        "outputId": "4e5e0235-77d3-4c4f-a15f-f716f4de6c14"
      },
      "execution_count": 8,
      "outputs": [
        {
          "output_type": "stream",
          "name": "stdout",
          "text": [
            "The current top news in the GenAI world recently includes:\n",
            "\n",
            "* Bloomberg using Gen AI for enhanced financial data analysis with its AI-Powered Document Insights tool, which can transform financial research with natural language queries across 200 million company documents.\n",
            "* Gen AI having the potential to create an \"agronomist on steroids\" by analyzing data from satellite imagery, text, financial reports, and historical loan data, according to a white paper by AgFunderNews.\n",
            "* Small AI firms challenging tech giants and spurring innovation in the field, as mentioned in a Forbes article.\n",
            "* Generative AI amplifying entrepreneurs in three ways, as discussed in another Forbes article.\n",
            "* Supply chain executives seeing a competitive edge in agentic and generative AI, as reported by Chain Store Age.\n",
            "\n",
            "These are some of the recent developments in the GenAI world, and they highlight the potential of GenAI to transform various industries and create new opportunities.\n"
          ]
        }
      ]
    },
    {
      "cell_type": "code",
      "source": [],
      "metadata": {
        "id": "EEAYivxBlcNb"
      },
      "execution_count": null,
      "outputs": []
    }
  ]
}